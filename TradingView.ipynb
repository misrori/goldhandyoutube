{
  "nbformat": 4,
  "nbformat_minor": 0,
  "metadata": {
    "colab": {
      "provenance": [],
      "authorship_tag": "ABX9TyMifzN8UDKAum4GoFll0JNq",
      "include_colab_link": true
    },
    "kernelspec": {
      "name": "python3",
      "display_name": "Python 3"
    },
    "language_info": {
      "name": "python"
    }
  },
  "cells": [
    {
      "cell_type": "markdown",
      "metadata": {
        "id": "view-in-github",
        "colab_type": "text"
      },
      "source": [
        "<a href=\"https://colab.research.google.com/github/misrori/goldhandyoutube/blob/main/TradingView.ipynb\" target=\"_parent\"><img src=\"https://colab.research.google.com/assets/colab-badge.svg\" alt=\"Open In Colab\"/></a>"
      ]
    },
    {
      "cell_type": "code",
      "execution_count": 3,
      "metadata": {
        "colab": {
          "base_uri": "https://localhost:8080/",
          "height": 17
        },
        "id": "a7zTRGII_sFI",
        "outputId": "81a87cb1-90de-410d-c614-ab1b1dc682b7"
      },
      "outputs": [
        {
          "output_type": "display_data",
          "data": {
            "text/plain": [
              "<IPython.core.display.Javascript object>"
            ],
            "application/javascript": [
              "\n",
              "    async function download(id, filename, size) {\n",
              "      if (!google.colab.kernel.accessAllowed) {\n",
              "        return;\n",
              "      }\n",
              "      const div = document.createElement('div');\n",
              "      const label = document.createElement('label');\n",
              "      label.textContent = `Downloading \"${filename}\": `;\n",
              "      div.appendChild(label);\n",
              "      const progress = document.createElement('progress');\n",
              "      progress.max = size;\n",
              "      div.appendChild(progress);\n",
              "      document.body.appendChild(div);\n",
              "\n",
              "      const buffers = [];\n",
              "      let downloaded = 0;\n",
              "\n",
              "      const channel = await google.colab.kernel.comms.open(id);\n",
              "      // Send a message to notify the kernel that we're ready.\n",
              "      channel.send({})\n",
              "\n",
              "      for await (const message of channel.messages) {\n",
              "        // Send a message to notify the kernel that we're ready.\n",
              "        channel.send({})\n",
              "        if (message.buffers) {\n",
              "          for (const buffer of message.buffers) {\n",
              "            buffers.push(buffer);\n",
              "            downloaded += buffer.byteLength;\n",
              "            progress.value = downloaded;\n",
              "          }\n",
              "        }\n",
              "      }\n",
              "      const blob = new Blob(buffers, {type: 'application/binary'});\n",
              "      const a = document.createElement('a');\n",
              "      a.href = window.URL.createObjectURL(blob);\n",
              "      a.download = filename;\n",
              "      div.appendChild(a);\n",
              "      a.click();\n",
              "      div.remove();\n",
              "    }\n",
              "  "
            ]
          },
          "metadata": {}
        },
        {
          "output_type": "display_data",
          "data": {
            "text/plain": [
              "<IPython.core.display.Javascript object>"
            ],
            "application/javascript": [
              "download(\"download_81f65084-6e77-4eaa-96e9-0110992f708b\", \"stocks.csv\", 3192527)"
            ]
          },
          "metadata": {}
        },
        {
          "output_type": "display_data",
          "data": {
            "text/plain": [
              "<IPython.core.display.Javascript object>"
            ],
            "application/javascript": [
              "\n",
              "    async function download(id, filename, size) {\n",
              "      if (!google.colab.kernel.accessAllowed) {\n",
              "        return;\n",
              "      }\n",
              "      const div = document.createElement('div');\n",
              "      const label = document.createElement('label');\n",
              "      label.textContent = `Downloading \"${filename}\": `;\n",
              "      div.appendChild(label);\n",
              "      const progress = document.createElement('progress');\n",
              "      progress.max = size;\n",
              "      div.appendChild(progress);\n",
              "      document.body.appendChild(div);\n",
              "\n",
              "      const buffers = [];\n",
              "      let downloaded = 0;\n",
              "\n",
              "      const channel = await google.colab.kernel.comms.open(id);\n",
              "      // Send a message to notify the kernel that we're ready.\n",
              "      channel.send({})\n",
              "\n",
              "      for await (const message of channel.messages) {\n",
              "        // Send a message to notify the kernel that we're ready.\n",
              "        channel.send({})\n",
              "        if (message.buffers) {\n",
              "          for (const buffer of message.buffers) {\n",
              "            buffers.push(buffer);\n",
              "            downloaded += buffer.byteLength;\n",
              "            progress.value = downloaded;\n",
              "          }\n",
              "        }\n",
              "      }\n",
              "      const blob = new Blob(buffers, {type: 'application/binary'});\n",
              "      const a = document.createElement('a');\n",
              "      a.href = window.URL.createObjectURL(blob);\n",
              "      a.download = filename;\n",
              "      div.appendChild(a);\n",
              "      a.click();\n",
              "      div.remove();\n",
              "    }\n",
              "  "
            ]
          },
          "metadata": {}
        },
        {
          "output_type": "display_data",
          "data": {
            "text/plain": [
              "<IPython.core.display.Javascript object>"
            ],
            "application/javascript": [
              "download(\"download_2693d5db-6fef-4290-9903-8ac585e8ac15\", \"crypto.csv\", 79241)"
            ]
          },
          "metadata": {}
        }
      ],
      "source": [
        "from google.colab import files\n",
        "import pandas as pd\n",
        "import requests\n",
        "import json\n",
        "# files.download('example.txt')\n",
        "\n",
        "\n",
        "\n",
        "# stocks\n",
        "data_query = '{\"filter\":[{\"left\":\"type\",\"operation\":\"in_range\",\"right\":[\"stock\",\"dr\",\"fund\"]},{\"left\":\"subtype\",\"operation\":\"in_range\",\"right\":[\"common\",\"foreign-issuer\",\"\",\"etf\",\"etf,odd\",\"etf,otc\",\"etf,cfd\"]},{\"left\":\"exchange\",\"operation\":\"in_range\",\"right\":[\"AMEX\",\"NASDAQ\",\"NYSE\"]},{\"left\":\"is_primary\",\"operation\":\"equal\",\"right\":true},{\"left\":\"active_symbol\",\"operation\":\"equal\",\"right\":true}],\"options\":{\"lang\":\"en\"},\"markets\":[\"america\"],\"symbols\":{\"query\":{\"types\":[]},\"tickers\":[]},\"columns\":[\"logoid\",\"name\",\"close\",\"change\",\"change_abs\",\"Recommend.All\",\"volume\",\"Value.Traded\",\"market_cap_basic\",\"price_earnings_ttm\",\"earnings_per_share_basic_ttm\",\"number_of_employees\",\"sector\",\"industry\",\"RSI\",\"SMA50\",\"SMA100\",\"SMA200\",\"BB.lower\",\"BB.upper\",\"Perf.W\",\"Perf.Y\",\"Perf.YTD\",\"Perf.3M\",\"Perf.6M\",\"Perf.1M\",\"High.1M\",\"High.3M\",\"High.6M\",\"price_52_week_high\",\"High.All\",\"description\",\"type\",\"subtype\",\"update_mode\",\"pricescale\",\"minmov\",\"fractional\",\"minmove2\",\"RSI[1]\",\"currency\",\"fundamental_currency_code\"],\"sort\":{\"sortBy\":\"market_cap_basic\",\"sortOrder\":\"desc\"},\"range\":[0,9000]}'\n",
        "response = requests.post('https://scanner.tradingview.com/america/scan', data=data_query)\n",
        "data = response.json()\n",
        "list_elements = list(map(lambda x:x['d'], data['data'] ))\n",
        "stock = pd.DataFrame(list_elements)\n",
        "stock.columns = json.loads(data_query)['columns']\n",
        "stock = stock[stock['name'].str.contains('\\\\.')!=True]\n",
        "stock.to_csv(\"stocks.csv\", index=False, index_label=False)\n",
        "\n",
        "\n",
        "# crypto\n",
        "data_query = '{\"columns\":[\"base_currency\",\"base_currency_desc\",\"base_currency_logoid\",\"update_mode\",\"type\",\"typespecs\",\"exchange\",\"crypto_total_rank\",\"close\",\"pricescale\",\"minmov\",\"fractional\",\"minmove2\",\"currency\",\"24h_close_change|5\",\"market_cap_calc\",\"fundamental_currency_code\",\"24h_vol_cmc\",\"circulating_supply\",\"crypto_common_categories\",\"crypto_blockchain_ecosystems\"],\"ignore_unknown_fields\":false,\"options\":{\"lang\":\"en\"},\"range\":[0,300],\"sort\":{\"sortBy\":\"crypto_total_rank\",\"sortOrder\":\"asc\"},\"markets\":[\"coin\"]}'\n",
        "response = requests.post('https://scanner.tradingview.com/coin/scan', data=data_query)\n",
        "data = response.json()\n",
        "list_elements = list(map(lambda x:x['d'], data['data'] ))\n",
        "crypto = pd.DataFrame(list_elements)\n",
        "crypto.columns = json.loads(data_query)['columns']\n",
        "crypto.to_csv(\"crypto.csv\", index=False, index_label=False)\n",
        "\n",
        "files.download('stocks.csv')\n",
        "files.download('crypto.csv')\n"
      ]
    },
    {
      "cell_type": "code",
      "source": [],
      "metadata": {
        "id": "pObnBPQwCDZt"
      },
      "execution_count": null,
      "outputs": []
    }
  ]
}